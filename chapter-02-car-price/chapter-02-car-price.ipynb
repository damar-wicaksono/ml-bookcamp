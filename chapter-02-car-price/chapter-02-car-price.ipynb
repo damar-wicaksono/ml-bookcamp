{
 "cells": [
  {
   "cell_type": "code",
   "execution_count": 2,
   "id": "b0a8ab14",
   "metadata": {},
   "outputs": [],
   "source": [
    "import numpy as np\n",
    "import pandas as pd\n",
    "\n",
    "from matplotlib import pyplot as plt\n",
    "import seaborn as sns\n",
    "%matplotlib inline"
   ]
  },
  {
   "cell_type": "markdown",
   "id": "89c6b1c8",
   "metadata": {},
   "source": [
    "### Reading and preparing data"
   ]
  },
  {
   "cell_type": "code",
   "execution_count": 147,
   "id": "ced5adf3",
   "metadata": {},
   "outputs": [],
   "source": [
    "df = pd.read_csv(\"data.csv\")"
   ]
  },
  {
   "cell_type": "markdown",
   "id": "255f90cd",
   "metadata": {},
   "source": [
    "How many observations in the dataset?"
   ]
  },
  {
   "cell_type": "code",
   "execution_count": 148,
   "id": "0e634091",
   "metadata": {},
   "outputs": [
    {
     "data": {
      "text/plain": [
       "11914"
      ]
     },
     "execution_count": 148,
     "metadata": {},
     "output_type": "execute_result"
    }
   ],
   "source": [
    "len(df)"
   ]
  },
  {
   "cell_type": "markdown",
   "id": "f5ce2582",
   "metadata": {},
   "source": [
    "Show several observations from the dataset:"
   ]
  },
  {
   "cell_type": "code",
   "execution_count": 149,
   "id": "a4ec626e",
   "metadata": {},
   "outputs": [
    {
     "data": {
      "text/html": [
       "<div>\n",
       "<style scoped>\n",
       "    .dataframe tbody tr th:only-of-type {\n",
       "        vertical-align: middle;\n",
       "    }\n",
       "\n",
       "    .dataframe tbody tr th {\n",
       "        vertical-align: top;\n",
       "    }\n",
       "\n",
       "    .dataframe thead th {\n",
       "        text-align: right;\n",
       "    }\n",
       "</style>\n",
       "<table border=\"1\" class=\"dataframe\">\n",
       "  <thead>\n",
       "    <tr style=\"text-align: right;\">\n",
       "      <th></th>\n",
       "      <th>Make</th>\n",
       "      <th>Model</th>\n",
       "      <th>Year</th>\n",
       "      <th>Engine Fuel Type</th>\n",
       "      <th>Engine HP</th>\n",
       "      <th>Engine Cylinders</th>\n",
       "      <th>Transmission Type</th>\n",
       "      <th>Driven_Wheels</th>\n",
       "      <th>Number of Doors</th>\n",
       "      <th>Market Category</th>\n",
       "      <th>Vehicle Size</th>\n",
       "      <th>Vehicle Style</th>\n",
       "      <th>highway MPG</th>\n",
       "      <th>city mpg</th>\n",
       "      <th>Popularity</th>\n",
       "      <th>MSRP</th>\n",
       "    </tr>\n",
       "  </thead>\n",
       "  <tbody>\n",
       "    <tr>\n",
       "      <th>0</th>\n",
       "      <td>BMW</td>\n",
       "      <td>1 Series M</td>\n",
       "      <td>2011</td>\n",
       "      <td>premium unleaded (required)</td>\n",
       "      <td>335.0</td>\n",
       "      <td>6.0</td>\n",
       "      <td>MANUAL</td>\n",
       "      <td>rear wheel drive</td>\n",
       "      <td>2.0</td>\n",
       "      <td>Factory Tuner,Luxury,High-Performance</td>\n",
       "      <td>Compact</td>\n",
       "      <td>Coupe</td>\n",
       "      <td>26</td>\n",
       "      <td>19</td>\n",
       "      <td>3916</td>\n",
       "      <td>46135</td>\n",
       "    </tr>\n",
       "    <tr>\n",
       "      <th>1</th>\n",
       "      <td>BMW</td>\n",
       "      <td>1 Series</td>\n",
       "      <td>2011</td>\n",
       "      <td>premium unleaded (required)</td>\n",
       "      <td>300.0</td>\n",
       "      <td>6.0</td>\n",
       "      <td>MANUAL</td>\n",
       "      <td>rear wheel drive</td>\n",
       "      <td>2.0</td>\n",
       "      <td>Luxury,Performance</td>\n",
       "      <td>Compact</td>\n",
       "      <td>Convertible</td>\n",
       "      <td>28</td>\n",
       "      <td>19</td>\n",
       "      <td>3916</td>\n",
       "      <td>40650</td>\n",
       "    </tr>\n",
       "    <tr>\n",
       "      <th>2</th>\n",
       "      <td>BMW</td>\n",
       "      <td>1 Series</td>\n",
       "      <td>2011</td>\n",
       "      <td>premium unleaded (required)</td>\n",
       "      <td>300.0</td>\n",
       "      <td>6.0</td>\n",
       "      <td>MANUAL</td>\n",
       "      <td>rear wheel drive</td>\n",
       "      <td>2.0</td>\n",
       "      <td>Luxury,High-Performance</td>\n",
       "      <td>Compact</td>\n",
       "      <td>Coupe</td>\n",
       "      <td>28</td>\n",
       "      <td>20</td>\n",
       "      <td>3916</td>\n",
       "      <td>36350</td>\n",
       "    </tr>\n",
       "    <tr>\n",
       "      <th>3</th>\n",
       "      <td>BMW</td>\n",
       "      <td>1 Series</td>\n",
       "      <td>2011</td>\n",
       "      <td>premium unleaded (required)</td>\n",
       "      <td>230.0</td>\n",
       "      <td>6.0</td>\n",
       "      <td>MANUAL</td>\n",
       "      <td>rear wheel drive</td>\n",
       "      <td>2.0</td>\n",
       "      <td>Luxury,Performance</td>\n",
       "      <td>Compact</td>\n",
       "      <td>Coupe</td>\n",
       "      <td>28</td>\n",
       "      <td>18</td>\n",
       "      <td>3916</td>\n",
       "      <td>29450</td>\n",
       "    </tr>\n",
       "    <tr>\n",
       "      <th>4</th>\n",
       "      <td>BMW</td>\n",
       "      <td>1 Series</td>\n",
       "      <td>2011</td>\n",
       "      <td>premium unleaded (required)</td>\n",
       "      <td>230.0</td>\n",
       "      <td>6.0</td>\n",
       "      <td>MANUAL</td>\n",
       "      <td>rear wheel drive</td>\n",
       "      <td>2.0</td>\n",
       "      <td>Luxury</td>\n",
       "      <td>Compact</td>\n",
       "      <td>Convertible</td>\n",
       "      <td>28</td>\n",
       "      <td>18</td>\n",
       "      <td>3916</td>\n",
       "      <td>34500</td>\n",
       "    </tr>\n",
       "  </tbody>\n",
       "</table>\n",
       "</div>"
      ],
      "text/plain": [
       "  Make       Model  Year             Engine Fuel Type  Engine HP  \\\n",
       "0  BMW  1 Series M  2011  premium unleaded (required)      335.0   \n",
       "1  BMW    1 Series  2011  premium unleaded (required)      300.0   \n",
       "2  BMW    1 Series  2011  premium unleaded (required)      300.0   \n",
       "3  BMW    1 Series  2011  premium unleaded (required)      230.0   \n",
       "4  BMW    1 Series  2011  premium unleaded (required)      230.0   \n",
       "\n",
       "   Engine Cylinders Transmission Type     Driven_Wheels  Number of Doors  \\\n",
       "0               6.0            MANUAL  rear wheel drive              2.0   \n",
       "1               6.0            MANUAL  rear wheel drive              2.0   \n",
       "2               6.0            MANUAL  rear wheel drive              2.0   \n",
       "3               6.0            MANUAL  rear wheel drive              2.0   \n",
       "4               6.0            MANUAL  rear wheel drive              2.0   \n",
       "\n",
       "                         Market Category Vehicle Size Vehicle Style  \\\n",
       "0  Factory Tuner,Luxury,High-Performance      Compact         Coupe   \n",
       "1                     Luxury,Performance      Compact   Convertible   \n",
       "2                Luxury,High-Performance      Compact         Coupe   \n",
       "3                     Luxury,Performance      Compact         Coupe   \n",
       "4                                 Luxury      Compact   Convertible   \n",
       "\n",
       "   highway MPG  city mpg  Popularity   MSRP  \n",
       "0           26        19        3916  46135  \n",
       "1           28        19        3916  40650  \n",
       "2           28        20        3916  36350  \n",
       "3           28        18        3916  29450  \n",
       "4           28        18        3916  34500  "
      ]
     },
     "execution_count": 149,
     "metadata": {},
     "output_type": "execute_result"
    }
   ],
   "source": [
    "df.head()"
   ]
  },
  {
   "cell_type": "markdown",
   "id": "301409be",
   "metadata": {},
   "source": [
    "The dataset seems to have a couple of issues; the headers are not normalized.\n",
    "Sometimes they have space and sometimes underscore."
   ]
  },
  {
   "cell_type": "code",
   "execution_count": 150,
   "id": "fab84462",
   "metadata": {},
   "outputs": [],
   "source": [
    "# Make the columns in lower case\n",
    "df.columns = df.columns.str.lower()\n",
    "\n",
    "# Replace space with underscore\n",
    "df.columns = df.columns.str.replace(\" \", \"_\")"
   ]
  },
  {
   "cell_type": "markdown",
   "id": "4d7aace2",
   "metadata": {},
   "source": [
    "Furthermore some of the columns have `objects` as data type although they are technically just `str`.\n",
    "Let's normalize this as well, make them lower and replace any space with an underscore."
   ]
  },
  {
   "cell_type": "code",
   "execution_count": 151,
   "id": "7e1b4870",
   "metadata": {},
   "outputs": [
    {
     "data": {
      "text/plain": [
       "make                  object\n",
       "model                 object\n",
       "year                   int64\n",
       "engine_fuel_type      object\n",
       "engine_hp            float64\n",
       "engine_cylinders     float64\n",
       "transmission_type     object\n",
       "driven_wheels         object\n",
       "number_of_doors      float64\n",
       "market_category       object\n",
       "vehicle_size          object\n",
       "vehicle_style         object\n",
       "highway_mpg            int64\n",
       "city_mpg               int64\n",
       "popularity             int64\n",
       "msrp                   int64\n",
       "dtype: object"
      ]
     },
     "execution_count": 151,
     "metadata": {},
     "output_type": "execute_result"
    }
   ],
   "source": [
    "df.dtypes"
   ]
  },
  {
   "cell_type": "code",
   "execution_count": 152,
   "id": "d6b9b702",
   "metadata": {},
   "outputs": [],
   "source": [
    "string_columns = list(df.dtypes[df.dtypes == \"object\"].index)"
   ]
  },
  {
   "cell_type": "code",
   "execution_count": 153,
   "id": "7dc21ba8",
   "metadata": {},
   "outputs": [],
   "source": [
    "for string_col in string_columns:\n",
    "    df[string_col] = df[string_col].str.lower()\n",
    "    df[string_col] = df[string_col].str.replace(\" \", \"_\")"
   ]
  },
  {
   "cell_type": "code",
   "execution_count": 154,
   "id": "2b92f6d6",
   "metadata": {},
   "outputs": [
    {
     "data": {
      "text/html": [
       "<div>\n",
       "<style scoped>\n",
       "    .dataframe tbody tr th:only-of-type {\n",
       "        vertical-align: middle;\n",
       "    }\n",
       "\n",
       "    .dataframe tbody tr th {\n",
       "        vertical-align: top;\n",
       "    }\n",
       "\n",
       "    .dataframe thead th {\n",
       "        text-align: right;\n",
       "    }\n",
       "</style>\n",
       "<table border=\"1\" class=\"dataframe\">\n",
       "  <thead>\n",
       "    <tr style=\"text-align: right;\">\n",
       "      <th></th>\n",
       "      <th>make</th>\n",
       "      <th>model</th>\n",
       "      <th>year</th>\n",
       "      <th>engine_fuel_type</th>\n",
       "      <th>engine_hp</th>\n",
       "      <th>engine_cylinders</th>\n",
       "      <th>transmission_type</th>\n",
       "      <th>driven_wheels</th>\n",
       "      <th>number_of_doors</th>\n",
       "      <th>market_category</th>\n",
       "      <th>vehicle_size</th>\n",
       "      <th>vehicle_style</th>\n",
       "      <th>highway_mpg</th>\n",
       "      <th>city_mpg</th>\n",
       "      <th>popularity</th>\n",
       "      <th>msrp</th>\n",
       "    </tr>\n",
       "  </thead>\n",
       "  <tbody>\n",
       "    <tr>\n",
       "      <th>0</th>\n",
       "      <td>bmw</td>\n",
       "      <td>1_series_m</td>\n",
       "      <td>2011</td>\n",
       "      <td>premium_unleaded_(required)</td>\n",
       "      <td>335.0</td>\n",
       "      <td>6.0</td>\n",
       "      <td>manual</td>\n",
       "      <td>rear_wheel_drive</td>\n",
       "      <td>2.0</td>\n",
       "      <td>factory_tuner,luxury,high-performance</td>\n",
       "      <td>compact</td>\n",
       "      <td>coupe</td>\n",
       "      <td>26</td>\n",
       "      <td>19</td>\n",
       "      <td>3916</td>\n",
       "      <td>46135</td>\n",
       "    </tr>\n",
       "    <tr>\n",
       "      <th>1</th>\n",
       "      <td>bmw</td>\n",
       "      <td>1_series</td>\n",
       "      <td>2011</td>\n",
       "      <td>premium_unleaded_(required)</td>\n",
       "      <td>300.0</td>\n",
       "      <td>6.0</td>\n",
       "      <td>manual</td>\n",
       "      <td>rear_wheel_drive</td>\n",
       "      <td>2.0</td>\n",
       "      <td>luxury,performance</td>\n",
       "      <td>compact</td>\n",
       "      <td>convertible</td>\n",
       "      <td>28</td>\n",
       "      <td>19</td>\n",
       "      <td>3916</td>\n",
       "      <td>40650</td>\n",
       "    </tr>\n",
       "    <tr>\n",
       "      <th>2</th>\n",
       "      <td>bmw</td>\n",
       "      <td>1_series</td>\n",
       "      <td>2011</td>\n",
       "      <td>premium_unleaded_(required)</td>\n",
       "      <td>300.0</td>\n",
       "      <td>6.0</td>\n",
       "      <td>manual</td>\n",
       "      <td>rear_wheel_drive</td>\n",
       "      <td>2.0</td>\n",
       "      <td>luxury,high-performance</td>\n",
       "      <td>compact</td>\n",
       "      <td>coupe</td>\n",
       "      <td>28</td>\n",
       "      <td>20</td>\n",
       "      <td>3916</td>\n",
       "      <td>36350</td>\n",
       "    </tr>\n",
       "    <tr>\n",
       "      <th>3</th>\n",
       "      <td>bmw</td>\n",
       "      <td>1_series</td>\n",
       "      <td>2011</td>\n",
       "      <td>premium_unleaded_(required)</td>\n",
       "      <td>230.0</td>\n",
       "      <td>6.0</td>\n",
       "      <td>manual</td>\n",
       "      <td>rear_wheel_drive</td>\n",
       "      <td>2.0</td>\n",
       "      <td>luxury,performance</td>\n",
       "      <td>compact</td>\n",
       "      <td>coupe</td>\n",
       "      <td>28</td>\n",
       "      <td>18</td>\n",
       "      <td>3916</td>\n",
       "      <td>29450</td>\n",
       "    </tr>\n",
       "    <tr>\n",
       "      <th>4</th>\n",
       "      <td>bmw</td>\n",
       "      <td>1_series</td>\n",
       "      <td>2011</td>\n",
       "      <td>premium_unleaded_(required)</td>\n",
       "      <td>230.0</td>\n",
       "      <td>6.0</td>\n",
       "      <td>manual</td>\n",
       "      <td>rear_wheel_drive</td>\n",
       "      <td>2.0</td>\n",
       "      <td>luxury</td>\n",
       "      <td>compact</td>\n",
       "      <td>convertible</td>\n",
       "      <td>28</td>\n",
       "      <td>18</td>\n",
       "      <td>3916</td>\n",
       "      <td>34500</td>\n",
       "    </tr>\n",
       "  </tbody>\n",
       "</table>\n",
       "</div>"
      ],
      "text/plain": [
       "  make       model  year             engine_fuel_type  engine_hp  \\\n",
       "0  bmw  1_series_m  2011  premium_unleaded_(required)      335.0   \n",
       "1  bmw    1_series  2011  premium_unleaded_(required)      300.0   \n",
       "2  bmw    1_series  2011  premium_unleaded_(required)      300.0   \n",
       "3  bmw    1_series  2011  premium_unleaded_(required)      230.0   \n",
       "4  bmw    1_series  2011  premium_unleaded_(required)      230.0   \n",
       "\n",
       "   engine_cylinders transmission_type     driven_wheels  number_of_doors  \\\n",
       "0               6.0            manual  rear_wheel_drive              2.0   \n",
       "1               6.0            manual  rear_wheel_drive              2.0   \n",
       "2               6.0            manual  rear_wheel_drive              2.0   \n",
       "3               6.0            manual  rear_wheel_drive              2.0   \n",
       "4               6.0            manual  rear_wheel_drive              2.0   \n",
       "\n",
       "                         market_category vehicle_size vehicle_style  \\\n",
       "0  factory_tuner,luxury,high-performance      compact         coupe   \n",
       "1                     luxury,performance      compact   convertible   \n",
       "2                luxury,high-performance      compact         coupe   \n",
       "3                     luxury,performance      compact         coupe   \n",
       "4                                 luxury      compact   convertible   \n",
       "\n",
       "   highway_mpg  city_mpg  popularity   msrp  \n",
       "0           26        19        3916  46135  \n",
       "1           28        19        3916  40650  \n",
       "2           28        20        3916  36350  \n",
       "3           28        18        3916  29450  \n",
       "4           28        18        3916  34500  "
      ]
     },
     "execution_count": 154,
     "metadata": {},
     "output_type": "execute_result"
    }
   ],
   "source": [
    "df.head()"
   ]
  },
  {
   "cell_type": "code",
   "execution_count": null,
   "id": "c8ba82db",
   "metadata": {},
   "outputs": [],
   "source": []
  },
  {
   "cell_type": "code",
   "execution_count": 155,
   "id": "19678af3",
   "metadata": {},
   "outputs": [
    {
     "data": {
      "image/png": "[encoded data removed]",
      "text/plain": [
       "<Figure size 432x288 with 1 Axes>"
      ]
     },
     "metadata": {
      "needs_background": "light"
     },
     "output_type": "display_data"
    }
   ],
   "source": [
    "sns.histplot(df.msrp, bins=40);"
   ]
  },
  {
   "cell_type": "markdown",
   "id": "5a4ea9e8",
   "metadata": {},
   "source": [
    "It seems the target output values distribution has a long tail. The suggested manufacturer retail price gets up to about 2 million USD!"
   ]
  },
  {
   "cell_type": "code",
   "execution_count": 156,
   "id": "d0b2a385",
   "metadata": {},
   "outputs": [
    {
     "data": {
      "text/html": [
       "<div>\n",
       "<style scoped>\n",
       "    .dataframe tbody tr th:only-of-type {\n",
       "        vertical-align: middle;\n",
       "    }\n",
       "\n",
       "    .dataframe tbody tr th {\n",
       "        vertical-align: top;\n",
       "    }\n",
       "\n",
       "    .dataframe thead th {\n",
       "        text-align: right;\n",
       "    }\n",
       "</style>\n",
       "<table border=\"1\" class=\"dataframe\">\n",
       "  <thead>\n",
       "    <tr style=\"text-align: right;\">\n",
       "      <th></th>\n",
       "      <th>make</th>\n",
       "      <th>model</th>\n",
       "      <th>year</th>\n",
       "      <th>engine_fuel_type</th>\n",
       "      <th>engine_hp</th>\n",
       "      <th>engine_cylinders</th>\n",
       "      <th>transmission_type</th>\n",
       "      <th>driven_wheels</th>\n",
       "      <th>number_of_doors</th>\n",
       "      <th>market_category</th>\n",
       "      <th>vehicle_size</th>\n",
       "      <th>vehicle_style</th>\n",
       "      <th>highway_mpg</th>\n",
       "      <th>city_mpg</th>\n",
       "      <th>popularity</th>\n",
       "      <th>msrp</th>\n",
       "    </tr>\n",
       "  </thead>\n",
       "  <tbody>\n",
       "    <tr>\n",
       "      <th>11362</th>\n",
       "      <td>bugatti</td>\n",
       "      <td>veyron_16.4</td>\n",
       "      <td>2008</td>\n",
       "      <td>premium_unleaded_(required)</td>\n",
       "      <td>1001.0</td>\n",
       "      <td>16.0</td>\n",
       "      <td>automated_manual</td>\n",
       "      <td>all_wheel_drive</td>\n",
       "      <td>2.0</td>\n",
       "      <td>exotic,high-performance</td>\n",
       "      <td>compact</td>\n",
       "      <td>coupe</td>\n",
       "      <td>14</td>\n",
       "      <td>8</td>\n",
       "      <td>820</td>\n",
       "      <td>2065902</td>\n",
       "    </tr>\n",
       "  </tbody>\n",
       "</table>\n",
       "</div>"
      ],
      "text/plain": [
       "          make        model  year             engine_fuel_type  engine_hp  \\\n",
       "11362  bugatti  veyron_16.4  2008  premium_unleaded_(required)     1001.0   \n",
       "\n",
       "       engine_cylinders transmission_type    driven_wheels  number_of_doors  \\\n",
       "11362              16.0  automated_manual  all_wheel_drive              2.0   \n",
       "\n",
       "               market_category vehicle_size vehicle_style  highway_mpg  \\\n",
       "11362  exotic,high-performance      compact         coupe           14   \n",
       "\n",
       "       city_mpg  popularity     msrp  \n",
       "11362         8         820  2065902  "
      ]
     },
     "execution_count": 156,
     "metadata": {},
     "output_type": "execute_result"
    }
   ],
   "source": [
    "df[df[\"msrp\"] == df[\"msrp\"].max()]"
   ]
  },
  {
   "cell_type": "markdown",
   "id": "d82b6283",
   "metadata": {},
   "source": [
    "So let's reduce the upper limit, and focus only on cars that cost less than 100'000 USD:"
   ]
  },
  {
   "cell_type": "code",
   "execution_count": 157,
   "id": "e1629f40",
   "metadata": {},
   "outputs": [
    {
     "data": {
      "image/png": "[encoded data removed]",
      "text/plain": [
       "<Figure size 432x288 with 1 Axes>"
      ]
     },
     "metadata": {
      "needs_background": "light"
     },
     "output_type": "display_data"
    }
   ],
   "source": [
    "sns.histplot(df.msrp[df.msrp < 1e5]);"
   ]
  },
  {
   "cell_type": "markdown",
   "id": "5994de8e",
   "metadata": {},
   "source": [
    "_Why does this even matter?_\n",
    "\n",
    "A long tail distribution confuses your model (scaling issues), the location of data is highly unbalanced.\n",
    "With some transformation, you can have better distribution of the data."
   ]
  },
  {
   "cell_type": "code",
   "execution_count": 158,
   "id": "52e3f83c",
   "metadata": {},
   "outputs": [
    {
     "data": {
      "image/png": "[encoded data removed]",
      "text/plain": [
       "<Figure size 432x288 with 1 Axes>"
      ]
     },
     "metadata": {
      "needs_background": "light"
     },
     "output_type": "display_data"
    }
   ],
   "source": [
    "sns.histplot(np.log1p(df.msrp)); # Add 1 to make sure there's no zero value that got log-ed."
   ]
  },
  {
   "cell_type": "code",
   "execution_count": 159,
   "id": "672515d7",
   "metadata": {},
   "outputs": [
    {
     "data": {
      "text/plain": [
       "7.600902459542082"
      ]
     },
     "execution_count": 159,
     "metadata": {},
     "output_type": "execute_result"
    }
   ],
   "source": [
    "np.log(df.msrp.min())"
   ]
  },
  {
   "cell_type": "markdown",
   "id": "f5e967ae",
   "metadata": {},
   "source": [
    "How about missing values?"
   ]
  },
  {
   "cell_type": "code",
   "execution_count": 160,
   "id": "ba4279e9",
   "metadata": {},
   "outputs": [
    {
     "data": {
      "text/plain": [
       "make                    0\n",
       "model                   0\n",
       "year                    0\n",
       "engine_fuel_type        3\n",
       "engine_hp              69\n",
       "engine_cylinders       30\n",
       "transmission_type       0\n",
       "driven_wheels           0\n",
       "number_of_doors         6\n",
       "market_category      3742\n",
       "vehicle_size            0\n",
       "vehicle_style           0\n",
       "highway_mpg             0\n",
       "city_mpg                0\n",
       "popularity              0\n",
       "msrp                    0\n",
       "dtype: int64"
      ]
     },
     "execution_count": 160,
     "metadata": {},
     "output_type": "execute_result"
    }
   ],
   "source": [
    "df.isnull().sum()"
   ]
  },
  {
   "cell_type": "markdown",
   "id": "dc6f26bf",
   "metadata": {},
   "source": [
    "At least, there isn't missing values for MSRP."
   ]
  },
  {
   "cell_type": "markdown",
   "id": "3f95bfe6",
   "metadata": {},
   "source": [
    "### Validation framework"
   ]
  },
  {
   "cell_type": "markdown",
   "id": "cfebee0b",
   "metadata": {},
   "source": [
    "Let's set up a validation framework based on the following splitt:\n",
    "- 20% for validation\n",
    "- 20% for testing\n",
    "- 60% for training"
   ]
  },
  {
   "cell_type": "code",
   "execution_count": 161,
   "id": "df9fc9ef",
   "metadata": {},
   "outputs": [],
   "source": [
    "n = len(df)  # Total number of observations\n",
    "\n",
    "# The number of splitting\n",
    "n_val = int(0.2 * n)\n",
    "n_test = int(0.2 * n)\n",
    "n_train = n - (n_val + n_test)\n",
    "\n",
    "# Shuffle the whole dataset before grabbing them\n",
    "np.random.seed(2141)    # for reproducibility\n",
    "idx = np.arange(n)\n",
    "np.random.shuffle(idx)  # The shuffling happens in-place\n",
    "\n",
    "df_shuffled = df.iloc[idx]"
   ]
  },
  {
   "cell_type": "code",
   "execution_count": 162,
   "id": "87c04ca0",
   "metadata": {},
   "outputs": [],
   "source": [
    "df_train = df_shuffled.iloc[:n_train].copy()\n",
    "df_val = df_shuffled.iloc[n_train:n_train+n_val].copy()\n",
    "df_test = df_shuffled.iloc[n_train+n_val:].copy()"
   ]
  },
  {
   "cell_type": "code",
   "execution_count": 163,
   "id": "b4a16c11",
   "metadata": {},
   "outputs": [],
   "source": [
    "x = np.arange(10)\n",
    "np.random.shuffle(x)"
   ]
  },
  {
   "cell_type": "markdown",
   "id": "c87658c6",
   "metadata": {},
   "source": [
    "Let's take the target variable:"
   ]
  },
  {
   "cell_type": "code",
   "execution_count": 164,
   "id": "89175ac4",
   "metadata": {},
   "outputs": [],
   "source": [
    "# Directly take the values and transform them\n",
    "y_train = np.log1p(df_train.msrp.values)\n",
    "y_val = np.log1p(df_val.msrp.values)\n",
    "y_test = np.log1p(df_test.msrp.values)"
   ]
  },
  {
   "cell_type": "code",
   "execution_count": 165,
   "id": "0b01c94e",
   "metadata": {},
   "outputs": [],
   "source": [
    "# NOTE: dot notation won't work here\n",
    "del df_train[\"msrp\"]\n",
    "del df_val[\"msrp\"]\n",
    "del df_test[\"msrp\"]"
   ]
  },
  {
   "cell_type": "code",
   "execution_count": 77,
   "id": "4a5005cf",
   "metadata": {},
   "outputs": [
    {
     "data": {
      "text/plain": [
       "make                                         bmw\n",
       "model                                   6_series\n",
       "year                                        2016\n",
       "engine_fuel_type     premium_unleaded_(required)\n",
       "engine_hp                                  315.0\n",
       "engine_cylinders                             6.0\n",
       "transmission_type                      automatic\n",
       "driven_wheels                   rear_wheel_drive\n",
       "number_of_doors                              2.0\n",
       "market_category               luxury,performance\n",
       "vehicle_size                             midsize\n",
       "vehicle_style                        convertible\n",
       "highway_mpg                                   31\n",
       "city_mpg                                      20\n",
       "popularity                                  3916\n",
       "Name: 659, dtype: object"
      ]
     },
     "execution_count": 77,
     "metadata": {},
     "output_type": "execute_result"
    }
   ],
   "source": [
    "df_train.iloc[10]"
   ]
  },
  {
   "cell_type": "code",
   "execution_count": 80,
   "id": "f30a4a69",
   "metadata": {},
   "outputs": [
    {
     "data": {
      "text/html": [
       "<div>\n",
       "<style scoped>\n",
       "    .dataframe tbody tr th:only-of-type {\n",
       "        vertical-align: middle;\n",
       "    }\n",
       "\n",
       "    .dataframe tbody tr th {\n",
       "        vertical-align: top;\n",
       "    }\n",
       "\n",
       "    .dataframe thead th {\n",
       "        text-align: right;\n",
       "    }\n",
       "</style>\n",
       "<table border=\"1\" class=\"dataframe\">\n",
       "  <thead>\n",
       "    <tr style=\"text-align: right;\">\n",
       "      <th></th>\n",
       "      <th>engine_hp</th>\n",
       "      <th>city_mpg</th>\n",
       "      <th>popularity</th>\n",
       "    </tr>\n",
       "  </thead>\n",
       "  <tbody>\n",
       "    <tr>\n",
       "      <th>2295</th>\n",
       "      <td>305.0</td>\n",
       "      <td>17</td>\n",
       "      <td>549</td>\n",
       "    </tr>\n",
       "    <tr>\n",
       "      <th>1051</th>\n",
       "      <td>220.0</td>\n",
       "      <td>26</td>\n",
       "      <td>3105</td>\n",
       "    </tr>\n",
       "    <tr>\n",
       "      <th>1754</th>\n",
       "      <td>250.0</td>\n",
       "      <td>16</td>\n",
       "      <td>640</td>\n",
       "    </tr>\n",
       "    <tr>\n",
       "      <th>10077</th>\n",
       "      <td>100.0</td>\n",
       "      <td>20</td>\n",
       "      <td>535</td>\n",
       "    </tr>\n",
       "    <tr>\n",
       "      <th>3762</th>\n",
       "      <td>108.0</td>\n",
       "      <td>30</td>\n",
       "      <td>2031</td>\n",
       "    </tr>\n",
       "    <tr>\n",
       "      <th>...</th>\n",
       "      <td>...</td>\n",
       "      <td>...</td>\n",
       "      <td>...</td>\n",
       "    </tr>\n",
       "    <tr>\n",
       "      <th>8011</th>\n",
       "      <td>170.0</td>\n",
       "      <td>21</td>\n",
       "      <td>873</td>\n",
       "    </tr>\n",
       "    <tr>\n",
       "      <th>6180</th>\n",
       "      <td>190.0</td>\n",
       "      <td>15</td>\n",
       "      <td>549</td>\n",
       "    </tr>\n",
       "    <tr>\n",
       "      <th>3975</th>\n",
       "      <td>242.0</td>\n",
       "      <td>16</td>\n",
       "      <td>1439</td>\n",
       "    </tr>\n",
       "    <tr>\n",
       "      <th>5930</th>\n",
       "      <td>140.0</td>\n",
       "      <td>22</td>\n",
       "      <td>204</td>\n",
       "    </tr>\n",
       "    <tr>\n",
       "      <th>5978</th>\n",
       "      <td>215.0</td>\n",
       "      <td>16</td>\n",
       "      <td>454</td>\n",
       "    </tr>\n",
       "  </tbody>\n",
       "</table>\n",
       "<p>7150 rows × 3 columns</p>\n",
       "</div>"
      ],
      "text/plain": [
       "       engine_hp  city_mpg  popularity\n",
       "2295       305.0        17         549\n",
       "1051       220.0        26        3105\n",
       "1754       250.0        16         640\n",
       "10077      100.0        20         535\n",
       "3762       108.0        30        2031\n",
       "...          ...       ...         ...\n",
       "8011       170.0        21         873\n",
       "6180       190.0        15         549\n",
       "3975       242.0        16        1439\n",
       "5930       140.0        22         204\n",
       "5978       215.0        16         454\n",
       "\n",
       "[7150 rows x 3 columns]"
      ]
     },
     "execution_count": 80,
     "metadata": {},
     "output_type": "execute_result"
    }
   ],
   "source": [
    "df_train[[\"engine_hp\", \"city_mpg\", \"popularity\"]]"
   ]
  },
  {
   "cell_type": "markdown",
   "id": "f1cee74a",
   "metadata": {},
   "source": [
    "A linear model is a model that has the following form:\n",
    "\n",
    "$$\n",
    "y = g(x) = g(x_1, x_2, \\ldots, x_M) = w_0 + w_1 x_1 + \\ldots + w_M x_M\n",
    "$$\n",
    "\n",
    "where $x$ is the feature vector and $y$ is the target output."
   ]
  },
  {
   "cell_type": "markdown",
   "id": "c964f8e1",
   "metadata": {},
   "source": [
    "Suppose we have the following result:\n",
    "\n",
    "| $w_0$ | $w_1$ | $w_2$ | $w_3$ |\n",
    "| ------| ------| -----|-------|\n",
    "| 7.17 | 0.01 | 0.04 | 0.002 |\n",
    "\n",
    "A pure Python implementation would be"
   ]
  },
  {
   "cell_type": "code",
   "execution_count": 81,
   "id": "27fee922",
   "metadata": {},
   "outputs": [],
   "source": [
    "w = [7.17, 0.01, 0.04, 0.002]\n",
    "\n",
    "def linear_regression(xi,w):\n",
    "    result = w[0]\n",
    "    for j in range(1,len(w)):\n",
    "        result += xi[j-1] * w[j]\n",
    "    return result"
   ]
  },
  {
   "cell_type": "code",
   "execution_count": 85,
   "id": "a1eb8467",
   "metadata": {},
   "outputs": [
    {
     "data": {
      "text/plain": [
       "18.952"
      ]
     },
     "execution_count": 85,
     "metadata": {},
     "output_type": "execute_result"
    }
   ],
   "source": [
    "linear_regression(df_train[[\"engine_hp\", \"city_mpg\", \"popularity\"]].iloc[10].values,w)"
   ]
  },
  {
   "cell_type": "code",
   "execution_count": 86,
   "id": "c838ba59",
   "metadata": {},
   "outputs": [
    {
     "data": {
      "text/plain": [
       "170117511.44334993"
      ]
     },
     "execution_count": 86,
     "metadata": {},
     "output_type": "execute_result"
    }
   ],
   "source": [
    "np.exp(18.952)"
   ]
  },
  {
   "cell_type": "code",
   "execution_count": 102,
   "id": "1097c75b",
   "metadata": {},
   "outputs": [
    {
     "data": {
      "text/plain": [
       "12.312"
      ]
     },
     "execution_count": 102,
     "metadata": {},
     "output_type": "execute_result"
    }
   ],
   "source": [
    "np.log1p(np.exp(linear_regression([453, 11, 86], w)) - 1)"
   ]
  },
  {
   "cell_type": "code",
   "execution_count": 94,
   "id": "c525afb9",
   "metadata": {},
   "outputs": [
    {
     "data": {
      "text/plain": [
       "14.54107797693027"
      ]
     },
     "execution_count": 94,
     "metadata": {},
     "output_type": "execute_result"
    }
   ],
   "source": [
    "max(y_train)"
   ]
  },
  {
   "cell_type": "markdown",
   "id": "39561403",
   "metadata": {},
   "source": [
    "## Where do the weight come from?"
   ]
  },
  {
   "cell_type": "code",
   "execution_count": 103,
   "id": "77507d7f",
   "metadata": {},
   "outputs": [],
   "source": [
    " ?np.expm1"
   ]
  },
  {
   "cell_type": "code",
   "execution_count": 120,
   "id": "9de3d48c",
   "metadata": {},
   "outputs": [],
   "source": [
    "def train_linear_regression(xx, y):\n",
    "    ones = np.ones(xx.shape[0])\n",
    "    xx = np.column_stack([ones, xx])\n",
    "    \n",
    "    # Solve the normal equation\n",
    "    xx_t_xx = xx.T @ xx\n",
    "    xx_t_xx_inv = np.linalg.inv(xx_t_xx)\n",
    "    w = xx_t_xx_inv @ xx.T @ y\n",
    "    \n",
    "    return w"
   ]
  },
  {
   "cell_type": "code",
   "execution_count": 105,
   "id": "b5fe99b5",
   "metadata": {},
   "outputs": [],
   "source": [
    "def predict_linear_regression(xx, w):\n",
    "    return w[0] + xx @ w[1:]"
   ]
  },
  {
   "cell_type": "markdown",
   "id": "e83d9ee2",
   "metadata": {},
   "source": [
    "## Predicting the price"
   ]
  },
  {
   "cell_type": "markdown",
   "id": "f5007379",
   "metadata": {},
   "source": [
    "Let's use the following feature for the linear regression model:\n",
    "\n",
    "- Engine horse power (`engine_hp`)\n",
    "- Number of cylinders (`engine_cylinders`)\n",
    "- Highway mileage (`highway_mpg`)\n",
    "- City mileage (`city_mpg`)\n",
    "- Popularity (`popularity`)"
   ]
  },
  {
   "cell_type": "code",
   "execution_count": 106,
   "id": "c2b6a4ed",
   "metadata": {},
   "outputs": [],
   "source": [
    "base_features = [\n",
    "    \"engine_hp\",\n",
    "    \"engine_cylinders\",\n",
    "    \"highway_mpg\",\n",
    "    \"city_mpg\",\n",
    "    \"popularity\",\n",
    "]\n",
    "\n",
    "df_train_base = df_train[base_features]"
   ]
  },
  {
   "cell_type": "code",
   "execution_count": 107,
   "id": "705a7109",
   "metadata": {},
   "outputs": [
    {
     "data": {
      "text/html": [
       "<div>\n",
       "<style scoped>\n",
       "    .dataframe tbody tr th:only-of-type {\n",
       "        vertical-align: middle;\n",
       "    }\n",
       "\n",
       "    .dataframe tbody tr th {\n",
       "        vertical-align: top;\n",
       "    }\n",
       "\n",
       "    .dataframe thead th {\n",
       "        text-align: right;\n",
       "    }\n",
       "</style>\n",
       "<table border=\"1\" class=\"dataframe\">\n",
       "  <thead>\n",
       "    <tr style=\"text-align: right;\">\n",
       "      <th></th>\n",
       "      <th>engine_hp</th>\n",
       "      <th>engine_cylinders</th>\n",
       "      <th>highway_mpg</th>\n",
       "      <th>city_mpg</th>\n",
       "      <th>popularity</th>\n",
       "    </tr>\n",
       "  </thead>\n",
       "  <tbody>\n",
       "    <tr>\n",
       "      <th>2295</th>\n",
       "      <td>305.0</td>\n",
       "      <td>6.0</td>\n",
       "      <td>24</td>\n",
       "      <td>17</td>\n",
       "      <td>549</td>\n",
       "    </tr>\n",
       "    <tr>\n",
       "      <th>1051</th>\n",
       "      <td>220.0</td>\n",
       "      <td>4.0</td>\n",
       "      <td>35</td>\n",
       "      <td>26</td>\n",
       "      <td>3105</td>\n",
       "    </tr>\n",
       "    <tr>\n",
       "      <th>1754</th>\n",
       "      <td>250.0</td>\n",
       "      <td>6.0</td>\n",
       "      <td>21</td>\n",
       "      <td>16</td>\n",
       "      <td>640</td>\n",
       "    </tr>\n",
       "    <tr>\n",
       "      <th>10077</th>\n",
       "      <td>100.0</td>\n",
       "      <td>4.0</td>\n",
       "      <td>29</td>\n",
       "      <td>20</td>\n",
       "      <td>535</td>\n",
       "    </tr>\n",
       "    <tr>\n",
       "      <th>3762</th>\n",
       "      <td>108.0</td>\n",
       "      <td>4.0</td>\n",
       "      <td>38</td>\n",
       "      <td>30</td>\n",
       "      <td>2031</td>\n",
       "    </tr>\n",
       "  </tbody>\n",
       "</table>\n",
       "</div>"
      ],
      "text/plain": [
       "       engine_hp  engine_cylinders  highway_mpg  city_mpg  popularity\n",
       "2295       305.0               6.0           24        17         549\n",
       "1051       220.0               4.0           35        26        3105\n",
       "1754       250.0               6.0           21        16         640\n",
       "10077      100.0               4.0           29        20         535\n",
       "3762       108.0               4.0           38        30        2031"
      ]
     },
     "execution_count": 107,
     "metadata": {},
     "output_type": "execute_result"
    }
   ],
   "source": [
    "df_train_base.head()"
   ]
  },
  {
   "cell_type": "code",
   "execution_count": 111,
   "id": "c6fa64b0",
   "metadata": {},
   "outputs": [
    {
     "data": {
      "text/plain": [
       "engine_hp           42\n",
       "engine_cylinders    11\n",
       "highway_mpg          0\n",
       "city_mpg             0\n",
       "popularity           0\n",
       "dtype: int64"
      ]
     },
     "execution_count": 111,
     "metadata": {},
     "output_type": "execute_result"
    }
   ],
   "source": [
    "df_train_base.isnull().sum()"
   ]
  },
  {
   "cell_type": "code",
   "execution_count": 114,
   "id": "5e6f9fa8",
   "metadata": {},
   "outputs": [],
   "source": [
    "# Replace NA with 0\n",
    "df_train_base = df_train_base.fillna(0)"
   ]
  },
  {
   "cell_type": "code",
   "execution_count": 115,
   "id": "358f5ad8",
   "metadata": {},
   "outputs": [],
   "source": [
    "xx_train = df_train_base.values"
   ]
  },
  {
   "cell_type": "code",
   "execution_count": 121,
   "id": "2cba7b53",
   "metadata": {},
   "outputs": [],
   "source": [
    "w = train_linear_regression(xx_train, y_train)"
   ]
  },
  {
   "cell_type": "code",
   "execution_count": 126,
   "id": "a0690707",
   "metadata": {},
   "outputs": [],
   "source": [
    "y_pred = predict_linear_regression(xx_train, w)"
   ]
  },
  {
   "cell_type": "code",
   "execution_count": 128,
   "id": "c8e9c69b",
   "metadata": {},
   "outputs": [
    {
     "data": {
      "image/png": "[encoded data removed]",
      "text/plain": [
       "<Figure size 432x288 with 1 Axes>"
      ]
     },
     "metadata": {
      "needs_background": "light"
     },
     "output_type": "display_data"
    }
   ],
   "source": [
    "sns.histplot(y_train, label = \"training\");\n",
    "sns.histplot(y_pred, label = \"prediction\");\n",
    "plt.legend();"
   ]
  },
  {
   "cell_type": "code",
   "execution_count": 129,
   "id": "f0b7edb3",
   "metadata": {},
   "outputs": [],
   "source": [
    "def rmse(y, y_pred):\n",
    "    error = y_pred - y\n",
    "    mse = (error**2).mean()\n",
    "    return np.sqrt(mse)"
   ]
  },
  {
   "cell_type": "code",
   "execution_count": 131,
   "id": "b5fe0910",
   "metadata": {},
   "outputs": [
    {
     "data": {
      "text/plain": [
       "1.094955896136911"
      ]
     },
     "execution_count": 131,
     "metadata": {},
     "output_type": "execute_result"
    }
   ],
   "source": [
    "np.expm1(rmse(y_train, y_pred))"
   ]
  },
  {
   "cell_type": "code",
   "execution_count": 133,
   "id": "6bf71a58",
   "metadata": {},
   "outputs": [],
   "source": [
    "df_val_base = df_val[base_features]\n",
    "df_val_base = df_val_base.fillna(0)\n",
    "xx_val = df_val_base.values"
   ]
  },
  {
   "cell_type": "code",
   "execution_count": 135,
   "id": "f586df4a",
   "metadata": {},
   "outputs": [],
   "source": [
    "y_pred = predict_linear_regression(xx_val, w)"
   ]
  },
  {
   "cell_type": "code",
   "execution_count": 137,
   "id": "235a3a27",
   "metadata": {},
   "outputs": [
    {
     "data": {
      "text/plain": [
       "0.7506700353014587"
      ]
     },
     "execution_count": 137,
     "metadata": {},
     "output_type": "execute_result"
    }
   ],
   "source": [
    "rmse(y_pred, y_val)"
   ]
  },
  {
   "cell_type": "markdown",
   "id": "c334748f",
   "metadata": {},
   "source": [
    "Let's wrap the preprocessing step in a single function:"
   ]
  },
  {
   "cell_type": "code",
   "execution_count": 138,
   "id": "49eb48b7",
   "metadata": {},
   "outputs": [],
   "source": [
    "def preprocess_xx(df, base_features):\n",
    "    df_base_features = df[base_features]\n",
    "    df_base_features = df_base_features.fillna(0)\n",
    "    xx = df_base_features.values\n",
    "    return xx"
   ]
  },
  {
   "cell_type": "code",
   "execution_count": 141,
   "id": "79a500f5",
   "metadata": {},
   "outputs": [],
   "source": [
    "xx_train = preprocess_xx(df_train, base_features)"
   ]
  },
  {
   "cell_type": "code",
   "execution_count": 143,
   "id": "dab0b6a1",
   "metadata": {},
   "outputs": [],
   "source": [
    "xx_test = preprocess_xx(df_test, base_features)"
   ]
  },
  {
   "cell_type": "code",
   "execution_count": 166,
   "id": "6dcecac2",
   "metadata": {},
   "outputs": [],
   "source": [
    "y_pred_test = predict_linear_regression(xx_test, w)"
   ]
  },
  {
   "cell_type": "code",
   "execution_count": 167,
   "id": "535b3506",
   "metadata": {},
   "outputs": [
    {
     "data": {
      "text/plain": [
       "0.8159355560976584"
      ]
     },
     "execution_count": 167,
     "metadata": {},
     "output_type": "execute_result"
    }
   ],
   "source": [
    "rmse(y_pred_test, y_test)"
   ]
  },
  {
   "cell_type": "markdown",
   "id": "770e3722",
   "metadata": {},
   "source": [
    "## Simple feature engineering\n",
    "\n",
    "Add more features to the model to increase its predictive performance:"
   ]
  },
  {
   "cell_type": "code",
   "execution_count": null,
   "id": "7bcc70a6",
   "metadata": {},
   "outputs": [],
   "source": [
    "df_train[\"age\"] = df_train.year.max() - df_train.year"
   ]
  }
 ],
 "metadata": {
  "kernelspec": {
   "display_name": "Python 3 (ipykernel)",
   "language": "python",
   "name": "python3"
  },
  "language_info": {
   "codemirror_mode": {
    "name": "ipython",
    "version": 3
   },
   "file_extension": ".py",
   "mimetype": "text/x-python",
   "name": "python",
   "nbconvert_exporter": "python",
   "pygments_lexer": "ipython3",
   "version": "3.9.7"
  }
 },
 "nbformat": 4,
 "nbformat_minor": 5
}
